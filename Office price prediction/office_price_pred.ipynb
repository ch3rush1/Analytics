{
 "cells": [
  {
   "cell_type": "code",
   "execution_count": null,
   "metadata": {},
   "outputs": [],
   "source": [
    "# question link\n",
    "# https://www.hackerrank.com/challenges/predicting-office-space-price/problem?isFullScreen=true"
   ]
  },
  {
   "cell_type": "code",
   "execution_count": 1,
   "metadata": {},
   "outputs": [],
   "source": [
    "from sklearn.linear_model import LinearRegression\n",
    "from sklearn.preprocessing import PolynomialFeatures\n",
    "from sklearn.pipeline import Pipeline\n",
    "import numpy as np"
   ]
  },
  {
   "cell_type": "markdown",
   "metadata": {},
   "source": [
    "## preprocessing"
   ]
  },
  {
   "cell_type": "code",
   "execution_count": null,
   "metadata": {},
   "outputs": [],
   "source": [
    "f,n = map(int,input().split())\n",
    "x = []\n",
    "y = []\n",
    "\n",
    "# arranging data into variables\n",
    "for i in range(n):\n",
    "    l = list(map(float,input().split()))\n",
    "    hold=[]\n",
    "    for j in range(len(l)):\n",
    "        if j<f:\n",
    "            hold.append(l[j])\n",
    "        else:\n",
    "            y.append(l[j])\n",
    "    x.append(hold)"
   ]
  },
  {
   "cell_type": "markdown",
   "metadata": {},
   "source": [
    "## regression model"
   ]
  },
  {
   "cell_type": "code",
   "execution_count": null,
   "metadata": {},
   "outputs": [],
   "source": [
    "# pipeline\n",
    "model = Pipeline([('poly',PolynomialFeatures(3)), ('linear',LinearRegression())])\n",
    "\n",
    "# linear regression model\n",
    "model.fit(x,y)"
   ]
  },
  {
   "cell_type": "markdown",
   "metadata": {},
   "source": [
    "## prediction based on new input\n",
    "### (see hackerrank)"
   ]
  },
  {
   "cell_type": "code",
   "execution_count": null,
   "metadata": {},
   "outputs": [],
   "source": [
    "# new input prep and feature eng\n",
    "new = int(input())\n",
    "new_x = []\n",
    "for i in range(new):\n",
    "    new_hold = []\n",
    "    l = map(float,input().split())\n",
    "    for j in l:\n",
    "        new_hold.append(j)\n",
    "    new_x.append(new_hold)"
   ]
  },
  {
   "cell_type": "code",
   "execution_count": null,
   "metadata": {},
   "outputs": [],
   "source": [
    "# prediction for new input\n",
    "new_pred = model.predict(new_x)\n",
    "for i in new_pred:\n",
    "    print(round(i,2))"
   ]
  },
  {
   "cell_type": "code",
   "execution_count": null,
   "metadata": {},
   "outputs": [],
   "source": []
  }
 ],
 "metadata": {
  "kernelspec": {
   "display_name": "Python 3.9.13 ('analytics')",
   "language": "python",
   "name": "python3"
  },
  "language_info": {
   "codemirror_mode": {
    "name": "ipython",
    "version": 3
   },
   "file_extension": ".py",
   "mimetype": "text/x-python",
   "name": "python",
   "nbconvert_exporter": "python",
   "pygments_lexer": "ipython3",
   "version": "3.9.13"
  },
  "orig_nbformat": 4,
  "vscode": {
   "interpreter": {
    "hash": "a4aeba1a13bbce9dc54b5e55481787713674887588915dbb8492880c4a12d953"
   }
  }
 },
 "nbformat": 4,
 "nbformat_minor": 2
}
