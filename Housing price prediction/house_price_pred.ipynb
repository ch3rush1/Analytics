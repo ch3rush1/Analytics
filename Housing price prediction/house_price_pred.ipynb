{
 "cells": [
  {
   "cell_type": "code",
   "execution_count": 1,
   "metadata": {},
   "outputs": [],
   "source": [
    "# Question link\n",
    "# https://www.hackerrank.com/challenges/predicting-house-prices/problem?isFullScreen=true"
   ]
  },
  {
   "cell_type": "code",
   "execution_count": 2,
   "metadata": {},
   "outputs": [],
   "source": [
    "from sklearn.linear_model import LinearRegression"
   ]
  },
  {
   "cell_type": "markdown",
   "metadata": {},
   "source": [
    "## preprocessing"
   ]
  },
  {
   "cell_type": "code",
   "execution_count": null,
   "metadata": {},
   "outputs": [],
   "source": [
    "f,t = map(int,input().split())\n",
    "x,y = [],[]\n",
    "for i in range(t):\n",
    "    row = list(map(float,input().split()))\n",
    "    rec = []\n",
    "    for j in range(len(row)):\n",
    "        if j<f:\n",
    "            rec.append(row[j])\n",
    "        else:\n",
    "            y.append(row[j])\n",
    "    x.append(rec)\n"
   ]
  },
  {
   "cell_type": "markdown",
   "metadata": {},
   "source": [
    "## regression model"
   ]
  },
  {
   "cell_type": "code",
   "execution_count": null,
   "metadata": {},
   "outputs": [],
   "source": [
    "model = LinearRegression()\n",
    "model.fit(x,y)"
   ]
  },
  {
   "cell_type": "markdown",
   "metadata": {},
   "source": [
    "## preprocessing for new input\n",
    "### (see hackerrank)"
   ]
  },
  {
   "cell_type": "code",
   "execution_count": null,
   "metadata": {},
   "outputs": [],
   "source": [
    "t_new = int(input())\n",
    "x_new = []\n",
    "for i in range(t_new):\n",
    "    row_n = list(map(float,input().split()))\n",
    "    rec_n = []\n",
    "    for j in row_n:\n",
    "        rec_n.append(j)\n",
    "    x_new.append(rec_n)\n"
   ]
  },
  {
   "cell_type": "markdown",
   "metadata": {},
   "source": [
    "## prediction based on new input"
   ]
  },
  {
   "cell_type": "code",
   "execution_count": null,
   "metadata": {},
   "outputs": [],
   "source": [
    "out = model.predict(x_new)\n",
    "for i in out:\n",
    "    print(round(i,2))"
   ]
  }
 ],
 "metadata": {
  "kernelspec": {
   "display_name": "Python 3.9.13 ('analytics')",
   "language": "python",
   "name": "python3"
  },
  "language_info": {
   "codemirror_mode": {
    "name": "ipython",
    "version": 3
   },
   "file_extension": ".py",
   "mimetype": "text/x-python",
   "name": "python",
   "nbconvert_exporter": "python",
   "pygments_lexer": "ipython3",
   "version": "3.9.13"
  },
  "orig_nbformat": 4,
  "vscode": {
   "interpreter": {
    "hash": "a4aeba1a13bbce9dc54b5e55481787713674887588915dbb8492880c4a12d953"
   }
  }
 },
 "nbformat": 4,
 "nbformat_minor": 2
}
