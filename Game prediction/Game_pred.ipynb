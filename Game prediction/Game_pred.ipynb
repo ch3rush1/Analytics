{
 "cells": [
  {
   "cell_type": "markdown",
   "metadata": {},
   "source": [
    "# Dota2 game outcome prediction"
   ]
  },
  {
   "cell_type": "code",
   "execution_count": 1,
   "metadata": {},
   "outputs": [],
   "source": [
    "# Question link\n",
    "# https://www.hackerrank.com/challenges/dota2prediction/problem?isFullScreen=true\n",
    "\n",
    "# build classification model using decision tree"
   ]
  },
  {
   "cell_type": "code",
   "execution_count": 2,
   "metadata": {},
   "outputs": [],
   "source": [
    "from sklearn import tree\n",
    "import pandas as pd\n",
    "from sklearn import preprocessing"
   ]
  },
  {
   "cell_type": "markdown",
   "metadata": {},
   "source": [
    "## Preprocessing"
   ]
  },
  {
   "cell_type": "code",
   "execution_count": 3,
   "metadata": {},
   "outputs": [],
   "source": [
    "# identifying the game characters and results of games\n",
    "char = []\n",
    "results = []\n",
    "with open('trainingdata.txt') as f:\n",
    "    lines = f.readlines()\n",
    "\n",
    "# winning group class is 1, losing group class is 2\n",
    "for i in lines:\n",
    "    row = i.strip().split(',')\n",
    "    char.extend(row[:-1])\n",
    "    if row[-1] == '1':\n",
    "        temp1 = row[:int((len(row)-1)/2)]\n",
    "        assert len(temp1) == 5\n",
    "        temp1.append(1)\n",
    "        results.append(temp1)\n",
    "        temp2 = row[int((len(row)-1)/2):-1]\n",
    "        temp2.append(2)\n",
    "        results.append(temp2)\n",
    "    \n",
    "    elif row[-1] == '2':\n",
    "        temp1 = row[:int((len(row)-1)/2)]\n",
    "        temp1.append(2)\n",
    "        results.append(temp1)\n",
    "        temp2 = row[int((len(row)-1)/2):-1]\n",
    "        temp2.append(1)\n",
    "        results.append(temp2)\n",
    "        \n",
    "char_unique = list(set(char))"
   ]
  },
  {
   "cell_type": "code",
   "execution_count": 4,
   "metadata": {},
   "outputs": [],
   "source": [
    "# creating dataframe for subsequent steps\n",
    "df = pd.DataFrame(results,columns=['c1','c2','c3','c4','c5','win_1 lose_2'])"
   ]
  },
  {
   "cell_type": "markdown",
   "metadata": {},
   "source": [
    "## Feature engineering and classification model"
   ]
  },
  {
   "cell_type": "code",
   "execution_count": 5,
   "metadata": {},
   "outputs": [],
   "source": [
    "# label encoding\n",
    "le = preprocessing.LabelEncoder()\n",
    "le.fit(char_unique)\n",
    "df['t_c1'] = le.transform(df['c1'])\n",
    "df['t_c2'] = le.transform(df['c2'])\n",
    "df['t_c3'] = le.transform(df['c3'])\n",
    "df['t_c4'] = le.transform(df['c4'])\n",
    "df['t_c5'] = le.transform(df['c5'])\n",
    "\n",
    "# decision tree model\n",
    "x = df[['t_c1','t_c2','t_c3','t_c4','t_c5']]\n",
    "y = df['win_1 lose_2']\n",
    "clf = tree.DecisionTreeClassifier()\n",
    "clf = clf.fit(x, y)\n"
   ]
  },
  {
   "cell_type": "markdown",
   "metadata": {},
   "source": [
    "## Predict winning teams \n",
    "### Based on new inputs of teams and characters (see hackerrank)"
   ]
  },
  {
   "cell_type": "code",
   "execution_count": null,
   "metadata": {},
   "outputs": [],
   "source": [
    "# predict winner based on new inputs\n",
    "n = int(input())\n",
    "for i in range(n):\n",
    "    row = list(input().split(','))\n",
    "    tr_row = le.transform(row)\n",
    "    l_row = [tr_row[:5],tr_row[5:]]\n",
    "    pred = clf.predict(l_row)\n",
    "    if pred[0] == 1:\n",
    "        print(1)\n",
    "    else:\n",
    "        print(2)"
   ]
  }
 ],
 "metadata": {
  "kernelspec": {
   "display_name": "Python 3.9.13 ('analytics')",
   "language": "python",
   "name": "python3"
  },
  "language_info": {
   "codemirror_mode": {
    "name": "ipython",
    "version": 3
   },
   "file_extension": ".py",
   "mimetype": "text/x-python",
   "name": "python",
   "nbconvert_exporter": "python",
   "pygments_lexer": "ipython3",
   "version": "3.9.13"
  },
  "orig_nbformat": 4,
  "vscode": {
   "interpreter": {
    "hash": "a4aeba1a13bbce9dc54b5e55481787713674887588915dbb8492880c4a12d953"
   }
  }
 },
 "nbformat": 4,
 "nbformat_minor": 2
}
